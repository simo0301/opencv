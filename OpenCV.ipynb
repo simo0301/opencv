{
 "cells": [
  {
   "cell_type": "markdown",
   "metadata": {},
   "source": [
    "# openCV 作業：\n",
    "* 題目：請找一段約一分鐘左右的影片，利用上課時學過的影像處理功能，發揮所有創意和想像，將該影片加工特效，產生一段新影片，怕誤解同學的創意，請將你的亮點盡可能寫在影片中的右下角\n",
    "\n",
    "* 上傳：導師會有告訴同學上傳空間, 或可上傳到Youtube 或自己的雲端空間, 把連結給老師(依導師規範為準)\n",
    "\n",
    "* 繳交日期：課後二週\n",
    "\n",
    "* 評分：亮點愈亮，創意愈多，分數愈高 \n",
    "\n",
    "* 參考 :<br>\n",
    "https://www.youtube.com/watch?v=Fszu0L1JtqM"
   ]
  },
  {
   "cell_type": "code",
   "execution_count": 2,
   "metadata": {},
   "outputs": [
    {
     "name": "stdout",
     "output_type": "stream",
     "text": [
      "FPS : 30.00 f/s,\tF_Count : 812.0,\tw : 1280,\th :　720\n"
     ]
    },
    {
     "data": {
      "text/plain": [
       "-1"
      ]
     },
     "execution_count": 2,
     "metadata": {},
     "output_type": "execute_result"
    }
   ],
   "source": [
    "import numpy as np\n",
    "import cv2, math, dlib, random\n",
    "from itertools import product\n",
    "\n",
    "# cap = cv2.VideoCapture('../video/chaplin.mp4')         #讀入影片\n",
    "# cap = cv2.VideoCapture('../video/Alec_Baldwin.mp4')         #讀入影片\n",
    "cap = cv2.VideoCapture('../video/overpass.mp4')         #讀入影片\n",
    "\n",
    "FPS = cap.get(cv2.CAP_PROP_FPS)               # 每秒幾偵放映 Frame Per Second\n",
    "F_Count = cap.get(cv2.CAP_PROP_FRAME_COUNT)   # frame count\n",
    "w = int(cap.get(cv2.CAP_PROP_FRAME_WIDTH))        # 取得畫面尺寸\n",
    "h = int(cap.get(cv2.CAP_PROP_FRAME_HEIGHT))\n",
    "\n",
    "seg_count = F_Count/4                     # seg=10 segmentation\n",
    "print(f'FPS : {FPS:.2f} f/s,\\tF_Count : {F_Count},\\tw : {w},\\th :　{h}')\n",
    "\n",
    "fourcc = cv2.VideoWriter_fourcc(*'XVID')             # 使用 XVID 編碼\n",
    "out = cv2.VideoWriter('./hw.mp4', fourcc, FPS, (w, h))\n",
    "pos=(10,30);    font=0;    color=(0,255,255)\n",
    "\n",
    "r=math.ceil((seg_count)/90)\n",
    "sift=cv2.xfeatures2d.SIFT_create()    # create object\n",
    "\n",
    "while cap.isOpened():\n",
    "    ret, frame = cap.read()\n",
    "    if not ret  : break\n",
    "    C_Count = cap.get(cv2.CAP_PROP_POS_FRAMES)\n",
    "\n",
    "    ##### 1. Flip\n",
    "    if C_Count < seg_count*1:\n",
    "        cv2.putText(frame, f'1. Original', pos, font, 1, color, 2)\n",
    "    \n",
    "    #### 2. Rotation\n",
    "    elif  C_Count < seg_count*2:\n",
    "        ang=(C_Count%seg_count)/seg_count*360*r\n",
    "        M1 = cv2.getRotationMatrix2D((w/2, h/2), ang, (C_Count%seg_count)/(seg_count)) #表示旋轉的中心點,表示旋轉的角度,圖像縮放因子\n",
    "        frame = cv2.warpAffine(frame, M1, (w, h))\n",
    "        cv2.putText(frame, f'2. Rotation: {r} & Scale : {ang:.0f} degs.', pos, font, 1, color, 2)\n",
    "            \n",
    "    ##### 3. Sobel Canny Laplacian\n",
    "    elif C_Count < seg_count*3:\n",
    "        sobelx = cv2.Sobel(frame[:,:w//3], cv2.CV_64F, 1, 0, ksize=-1)\n",
    "        sobely = cv2.Sobel(frame[:,:w//3], cv2.CV_64F, 0, 1, ksize=-1)\n",
    "        sobelx = cv2.convertScaleAbs(sobelx)          # 轉回 uint8\n",
    "        sobely = cv2.convertScaleAbs(sobely)\n",
    "        frame1 =  cv2.addWeighted(sobelx, 0.5, sobely, 0.5, 0)  \n",
    "        \n",
    "        frame2 = cv2.cvtColor(cv2.Canny(frame[:,w//3:w//3*2], 64, 192), cv2.COLOR_GRAY2BGR)\n",
    "        \n",
    "        lapl = cv2.Laplacian(frame[:,w//3*2:w], cv2.CV_64F)\n",
    "        frame3 = cv2.convertScaleAbs(lapl)\n",
    "        \n",
    "        frame=np.hstack([frame1, frame2, frame3])\n",
    "        cv2.putText(frame, f'3. Sobel{\"Canny\":>24}{\"Laplacian\":>30}', pos, font, 1, color, 2)\n",
    "        \n",
    "    #### 4. Sift\n",
    "    else :\n",
    "        frame = cv2.cvtColor(frame, cv2.COLOR_BGR2GRAY)\n",
    "        kps = sift.detect(frame, None)\n",
    "        frame= cv2.drawKeypoints(frame, kps, None, flags=cv2.DRAW_MATCHES_FLAGS_DRAW_RICH_KEYPOINTS)   # image : image output        \n",
    "        cv2.putText(frame, f'10. Sift : {len(kps)} kps', pos, font, 1, color, 2)\n",
    "    \n",
    "    cv2.putText(frame, f'{C_Count:.0f}/{F_Count:.0f} frames, FPS : {FPS:.0f}', (10, 70), font, 1, color, 2)\n",
    "    cv2.imshow('frame', frame)\n",
    "    out.write(frame)                               # 寫入影格\n",
    "    \n",
    "    if cv2.waitKey(1) == 27:          # c==27 (ascii code) key escape\n",
    "        break\n",
    "        \n",
    "cap.release()\n",
    "out.release()\n",
    "cv2.destroyAllWindows()\n",
    "cv2.waitKey(1)"
   ]
  },
  {
   "cell_type": "code",
   "execution_count": null,
   "metadata": {},
   "outputs": [],
   "source": []
  }
 ],
 "metadata": {
  "kernelspec": {
   "display_name": "Python 3",
   "language": "python",
   "name": "python3"
  },
  "language_info": {
   "codemirror_mode": {
    "name": "ipython",
    "version": 3
   },
   "file_extension": ".py",
   "mimetype": "text/x-python",
   "name": "python",
   "nbconvert_exporter": "python",
   "pygments_lexer": "ipython3",
   "version": "3.6.13"
  }
 },
 "nbformat": 4,
 "nbformat_minor": 4
}
